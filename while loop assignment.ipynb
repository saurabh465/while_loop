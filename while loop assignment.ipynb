{
 "cells": [
  {
   "cell_type": "code",
   "execution_count": 14,
   "id": "852fcb08-2894-47ff-8a3d-dab4fc35cfb8",
   "metadata": {},
   "outputs": [],
   "source": [
    "#Question1 \n",
    "\"\"\" def is used for function \"\"\"\n",
    "def odd():\n",
    "    m=[]\n",
    "    for i in range(1,25):\n",
    "        if i%2 != 0 :\n",
    "            m.append(i) \n",
    "    return m            "
   ]
  },
  {
   "cell_type": "code",
   "execution_count": 15,
   "id": "3487c5dd-9309-405f-95c9-7fb8ecaf712d",
   "metadata": {},
   "outputs": [
    {
     "data": {
      "text/plain": [
       "[1, 3, 5, 7, 9, 11, 13, 15, 17, 19, 21, 23]"
      ]
     },
     "execution_count": 15,
     "metadata": {},
     "output_type": "execute_result"
    }
   ],
   "source": [
    "odd()"
   ]
  },
  {
   "cell_type": "code",
   "execution_count": 18,
   "id": "86683876-7bec-40bc-b915-f23484534145",
   "metadata": {},
   "outputs": [],
   "source": [
    "#Question 2\n",
    "\"\"\" *args is used for random number  use as input  and **kwargs is use for to square any integer \"\"\"\n",
    "#*args\n",
    "def test(*args):\n",
    "    return  args\n"
   ]
  },
  {
   "cell_type": "code",
   "execution_count": 19,
   "id": "6bede6bb-b76f-4200-b7c6-223638b7af7c",
   "metadata": {},
   "outputs": [
    {
     "data": {
      "text/plain": [
       "(4, 5, 6)"
      ]
     },
     "execution_count": 19,
     "metadata": {},
     "output_type": "execute_result"
    }
   ],
   "source": [
    "test(4,5,6)"
   ]
  },
  {
   "cell_type": "code",
   "execution_count": 20,
   "id": "2161e95b-fa0b-4267-b908-240c6c702c49",
   "metadata": {},
   "outputs": [],
   "source": [
    "#**kwargs\n",
    "def sq(a,b):\n",
    "    return a**2\n",
    "    "
   ]
  },
  {
   "cell_type": "code",
   "execution_count": 21,
   "id": "f320cc4f-2369-4308-928e-abd1ced40318",
   "metadata": {},
   "outputs": [
    {
     "data": {
      "text/plain": [
       "4"
      ]
     },
     "execution_count": 21,
     "metadata": {},
     "output_type": "execute_result"
    }
   ],
   "source": [
    "sq(2,2)"
   ]
  },
  {
   "cell_type": "code",
   "execution_count": 1,
   "id": "1eaf5e3e-4934-4be2-a6bb-e465dae74e35",
   "metadata": {},
   "outputs": [
    {
     "name": "stdout",
     "output_type": "stream",
     "text": [
      "2\n",
      "4\n",
      "6\n",
      "8\n",
      "10\n"
     ]
    }
   ],
   "source": [
    "#Question 3 \n",
    "\"\"\"An iterator is an object that implements the iterator protocol, which consists of two methods: __iter__() and __next__().\n",
    "1) __iter__():method is used to initialize the iterator object and returns the iterator itself. It is called when an iterator object is created or when the iter() function is called on an iterable. \n",
    "2)The __next__() method is used to fetch the next value from the iterator \"\"\"\n",
    "my_list = [2, 4, 6, 8, 10, 12, 14, 16, 18, 20]\n",
    "\n",
    "# Create an iterator object\n",
    "my_iter = iter(my_list)\n",
    "\n",
    "# Iterate over the first five elements\n",
    "for _ in range(5):\n",
    "    element = next(my_iter)\n",
    "    print(element)"
   ]
  },
  {
   "cell_type": "code",
   "execution_count": 3,
   "id": "6b16eb0b-34dd-496a-9049-752455589d1e",
   "metadata": {},
   "outputs": [],
   "source": [
    "#question 4\n",
    "\"\"\" a generator function is a special type of function that generates a sequence of values using the \"yield\" keyword instead of the \"return\" keyword\n",
    "    The \"yield\" keyword is used within a generator function to define points at which the function should yield a value. When the function encounters a \"yield\" statement, it temporarily suspends its execution and returns the yielded value to the caller. \"\"\"\n",
    "def even_numbers(n):\n",
    "    for i in range(n):\n",
    "        if i % 2 == 0:\n",
    "            yield i"
   ]
  },
  {
   "cell_type": "code",
   "execution_count": 10,
   "id": "9e2cbe65-940f-4662-8d20-59bc154445ee",
   "metadata": {},
   "outputs": [],
   "source": [
    "#example\n",
    "even=even_numbers(10)"
   ]
  },
  {
   "cell_type": "code",
   "execution_count": 11,
   "id": "067f38f6-f728-4b8c-8e41-9944cae9e6e7",
   "metadata": {},
   "outputs": [
    {
     "name": "stdout",
     "output_type": "stream",
     "text": [
      "0\n",
      "2\n",
      "4\n",
      "6\n",
      "8\n"
     ]
    }
   ],
   "source": [
    "for i in even :\n",
    "    print(i)"
   ]
  },
  {
   "cell_type": "code",
   "execution_count": null,
   "id": "3df3d9c8-5f8f-4e04-9538-020feb802fb0",
   "metadata": {},
   "outputs": [],
   "source": [
    "#question 5\n",
    "def primes():\n",
    "    yield 2  # 2 is the first prime number\n",
    "    prime_count = 1\n",
    "    num = 3\n",
    "\n",
    "    while prime_count < 20:\n",
    "        is_prime = True\n",
    "\n",
    "        # Check if num is divisible by any number from 2 to its square root\n",
    "        for i in range(2, int(num ** 0.5) + 1):\n",
    "            if num % i == 0:\n",
    "                is_prime = False\n",
    "                break\n",
    "\n",
    "        if is_prime:\n",
    "            yield num\n",
    "            prime_count += 1\n",
    "\n",
    "        num += 2  # Check only odd numbers for efficiency\n",
    "\n",
    "# Generate and print the first 20 prime numbers\n",
    "prime_gen = primes()\n",
    "\n",
    "for _ in range(20):\n",
    "    prime = next(prime_gen)\n",
    "    print(prime)"
   ]
  },
  {
   "cell_type": "code",
   "execution_count": 50,
   "id": "0445cf06-6338-44c5-bc9e-3203716337ed",
   "metadata": {},
   "outputs": [
    {
     "name": "stdin",
     "output_type": "stream",
     "text": [
      "enter ur number 10\n"
     ]
    },
    {
     "name": "stdout",
     "output_type": "stream",
     "text": [
      "0\n",
      "1\n",
      "1\n",
      "2\n",
      "3\n",
      "5\n",
      "8\n",
      "13\n",
      "21\n",
      "34\n"
     ]
    }
   ],
   "source": [
    "#question 6 \n",
    "n = int(input(\"enter ur number\"))\n",
    "a=0 \n",
    "p=0\n",
    "b=1\n",
    "while n > p :\n",
    "    print(a)\n",
    "    c =a+b\n",
    "    a=b\n",
    "    b=c\n",
    "    p=p+1"
   ]
  },
  {
   "cell_type": "code",
   "execution_count": 62,
   "id": "dfdc94d2-f56d-4155-b12a-a23cf97cfdc3",
   "metadata": {},
   "outputs": [
    {
     "data": {
      "text/plain": [
       "['pwskills']"
      ]
     },
     "execution_count": 62,
     "metadata": {},
     "output_type": "execute_result"
    }
   ],
   "source": [
    "#question 6\n",
    "[i for i in [\"pwskills\"]]"
   ]
  },
  {
   "cell_type": "code",
   "execution_count": 60,
   "id": "52e9a740-996d-4153-9086-2540954eb5b9",
   "metadata": {},
   "outputs": [
    {
     "name": "stdin",
     "output_type": "stream",
     "text": [
      "Enter a number:  10\n"
     ]
    },
    {
     "name": "stdout",
     "output_type": "stream",
     "text": [
      "10 is not a palindrome!\n"
     ]
    }
   ],
   "source": [
    "#question 7 \n",
    "def is_palindrome(number):\n",
    "    original_number = number\n",
    "    reversed_number = 0\n",
    "\n",
    "    while number > 0:\n",
    "        digit = number % 10\n",
    "        reversed_number = reversed_number * 10 + digit\n",
    "        number = number // 10\n",
    "\n",
    "    if original_number == reversed_number:\n",
    "        return True\n",
    "    else:\n",
    "        return False\n",
    "\n",
    "# Test the function\n",
    "num = int(input(\"Enter a number: \"))\n",
    "\n",
    "if is_palindrome(num):\n",
    "    print(f\"{num} is a palindrome!\")\n",
    "else:\n",
    "    print(f\"{num} is not a palindrome!\")"
   ]
  },
  {
   "cell_type": "code",
   "execution_count": null,
   "id": "1dbdec12-f760-4fe8-a63a-4f10b39b4149",
   "metadata": {},
   "outputs": [],
   "source": [
    "#question 8 \n",
    "odd_numbers = [num for num in range(1, 101) if num % 2 != 0]\n",
    "print(odd_numbers)"
   ]
  }
 ],
 "metadata": {
  "kernelspec": {
   "display_name": "Python 3 (ipykernel)",
   "language": "python",
   "name": "python3"
  },
  "language_info": {
   "codemirror_mode": {
    "name": "ipython",
    "version": 3
   },
   "file_extension": ".py",
   "mimetype": "text/x-python",
   "name": "python",
   "nbconvert_exporter": "python",
   "pygments_lexer": "ipython3",
   "version": "3.10.8"
  }
 },
 "nbformat": 4,
 "nbformat_minor": 5
}
